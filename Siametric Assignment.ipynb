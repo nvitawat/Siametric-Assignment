{
 "cells": [
  {
   "cell_type": "markdown",
   "metadata": {},
   "source": [
    "# Siametric Assignment"
   ]
  },
  {
   "cell_type": "markdown",
   "metadata": {},
   "source": [
    "use R in jupyter"
   ]
  },
  {
   "cell_type": "markdown",
   "metadata": {},
   "source": [
    "## Data"
   ]
  },
  {
   "cell_type": "code",
   "execution_count": 1,
   "metadata": {},
   "outputs": [
    {
     "name": "stderr",
     "output_type": "stream",
     "text": [
      "\n",
      "Attaching package: ‘dplyr’\n",
      "\n",
      "The following objects are masked from ‘package:stats’:\n",
      "\n",
      "    filter, lag\n",
      "\n",
      "The following objects are masked from ‘package:base’:\n",
      "\n",
      "    intersect, setdiff, setequal, union\n",
      "\n"
     ]
    },
    {
     "name": "stdout",
     "output_type": "stream",
     "text": [
      "'data.frame':\t20760 obs. of  4 variables:\n",
      " $ person_id: int  2 2 2 2 2 30 30 30 30 30 ...\n",
      " $ year     : int  2013 2014 2015 2016 2017 2013 2014 2015 2016 2017 ...\n",
      " $ perf_a   : num  -0.291 NA NA NA NA ...\n",
      " $ perf_b   : num  -0.114 NA NA NA NA ...\n",
      "'data.frame':\t13376 obs. of  3 variables:\n",
      " $ person_id: int  18946 47288 120700 63124 128302 42206 64730 116407 83868 59511 ...\n",
      " $ year     : int  2013 2013 2014 2017 2017 2017 2016 2015 2014 2016 ...\n",
      " $ perf_c   : num  -4.56 -4.55 -4.22 -4.18 -4 ...\n",
      "'data.frame':\t21218 obs. of  4 variables:\n",
      " $ person_id   : int  73734 125657 433 123918 94031 86808 49049 37562 58713 30657 ...\n",
      " $ year        : int  2014 2014 2014 2014 2014 2014 2014 2014 2014 2014 ...\n",
      " $ status      : Factor w/ 4 levels \"\",\"Active\",\"Inactive\",..: 2 1 2 2 2 2 2 2 2 1 ...\n",
      " $ avg_absences: num  9.03 9.03 9.03 9.03 9.03 ...\n",
      "'data.frame':\t14579 obs. of  5 variables:\n",
      " $ person_id: int  2 2 2 4 4 4 4 35 35 35 ...\n",
      " $ year     : int  2012 2013 2014 2012 2013 2014 2015 2012 2013 2014 ...\n",
      " $ id_s_fr  : num  3e+09 NA NA NA NA ...\n",
      " $ age      : num  48 49 50 53 54 55 56 50 51 52 ...\n",
      " $ female   : num  1 1 1 1 1 1 1 1 1 1 ...\n"
     ]
    }
   ],
   "source": [
    "library(dplyr)\n",
    "# Set working directory\n",
    "setwd(\"/Users/vitawat/desktop/Rdata/siametrics_asg2018/\")\n",
    "# Read files\n",
    "performance  <- read.csv(\"performance.csv\", head = T)\n",
    "performance_c <- read.csv(\"performance_c.csv\", head = T)\n",
    "absence <- read.csv(\"absence.csv\", head = T)\n",
    "department <- read.csv(\"department.csv\", head = T)\n",
    "# Change column name\n",
    "colnames(department)[1] <- \"person_id\"\n",
    "str(performance)\n",
    "str(performance_c)\n",
    "str(absence)\n",
    "str(department)"
   ]
  },
  {
   "cell_type": "markdown",
   "metadata": {},
   "source": [
    "## Merge Data\n",
    "Merge all files together by person_id, id_s_fr, and year."
   ]
  },
  {
   "cell_type": "code",
   "execution_count": 2,
   "metadata": {},
   "outputs": [
    {
     "name": "stdout",
     "output_type": "stream",
     "text": [
      "'data.frame':\t29594 obs. of  14 variables:\n",
      " $ person_id    : int  2 2 2 2 2 30 30 30 30 30 ...\n",
      " $ year         : int  2013 2014 2015 2016 2017 2013 2014 2015 2016 2017 ...\n",
      " $ perf_a       : num  -0.291 NA NA NA NA ...\n",
      " $ perf_b       : num  -0.114 NA NA NA NA ...\n",
      " $ performance  : num  1 1 1 1 1 1 1 1 1 1 ...\n",
      " $ perf_c       : num  -0.193 NA NA NA NA ...\n",
      " $ performance_c: num  1 NA NA NA NA 1 NA NA NA NA ...\n",
      " $ status       : Factor w/ 4 levels \"\",\"Active\",\"Inactive\",..: 3 3 NA NA NA 1 1 NA NA NA ...\n",
      " $ avg_absences : num  8.65 8.86 NA NA NA ...\n",
      " $ absence      : num  1 1 NA NA NA 1 1 NA NA NA ...\n",
      " $ id_s_fr      : num  NA NA NA NA NA NA NA NA NA NA ...\n",
      " $ age          : num  49 50 NA NA NA NA NA NA NA NA ...\n",
      " $ female       : num  1 1 NA NA NA NA NA NA NA NA ...\n",
      " $ department   : num  1 1 NA NA NA NA NA NA NA NA ...\n"
     ]
    },
    {
     "data": {
      "text/html": [
       "29594"
      ],
      "text/latex": [
       "29594"
      ],
      "text/markdown": [
       "29594"
      ],
      "text/plain": [
       "[1] 29594"
      ]
     },
     "metadata": {},
     "output_type": "display_data"
    },
    {
     "data": {
      "text/html": [
       "20760"
      ],
      "text/latex": [
       "20760"
      ],
      "text/markdown": [
       "20760"
      ],
      "text/plain": [
       "[1] 20760"
      ]
     },
     "metadata": {},
     "output_type": "display_data"
    },
    {
     "data": {
      "text/html": [
       "13376"
      ],
      "text/latex": [
       "13376"
      ],
      "text/markdown": [
       "13376"
      ],
      "text/plain": [
       "[1] 13376"
      ]
     },
     "metadata": {},
     "output_type": "display_data"
    },
    {
     "data": {
      "text/html": [
       "21218"
      ],
      "text/latex": [
       "21218"
      ],
      "text/markdown": [
       "21218"
      ],
      "text/plain": [
       "[1] 21218"
      ]
     },
     "metadata": {},
     "output_type": "display_data"
    },
    {
     "data": {
      "text/html": [
       "14579"
      ],
      "text/latex": [
       "14579"
      ],
      "text/markdown": [
       "14579"
      ],
      "text/plain": [
       "[1] 14579"
      ]
     },
     "metadata": {},
     "output_type": "display_data"
    }
   ],
   "source": [
    "# Make key index\n",
    "M1 <- bind_rows(performance[,1:2],performance_c[,1:2], absence[,1:2], department[,1:2])\n",
    "# Take duplicate person_id and year off \n",
    "Mtotal <- M1[!duplicated(M1[,1:2]),]       # Key index\n",
    "# Before merge -> add varaible to indicate the source data\n",
    "performance$performance <- 1\n",
    "performance_c$performance_c <- 1\n",
    "absence$absence <- 1\n",
    "department$department <- 1\n",
    "# Merge files - left_join by \"person_id\" and \"year\"\n",
    "Mtotal  <- Mtotal %>%\n",
    "  left_join(performance, by = c(\"person_id\", \"year\")) %>%  \n",
    "  left_join(performance_c, by = c(\"person_id\", \"year\")) %>%\n",
    "  left_join(absence, by = c(\"person_id\", \"year\")) %>%\n",
    "  left_join(department, by = c(\"person_id\", \"year\")) \n",
    "str(Mtotal)\n",
    "nrow(Mtotal)\n",
    "nrow(subset(Mtotal,performance == 1))\n",
    "nrow(subset(Mtotal,performance_c == 1))\n",
    "nrow(subset(Mtotal,absence == 1))\n",
    "nrow(subset(Mtotal,department == 1))\n",
    "# write file\n",
    "write.csv(Mtotal, file=\"panal.csv\", row.names = T)"
   ]
  },
  {
   "cell_type": "markdown",
   "metadata": {},
   "source": [
    "## Q1 : Fill every area in the below Venn diagram with the number of unique people.\n",
    "1. People in each data file\n",
    "check person_id appear in each data file"
   ]
  },
  {
   "cell_type": "markdown",
   "metadata": {},
   "source": [
    "Uperf <- performance[!duplicated(performance[,1]),] # take duplicate id off\n",
    "Uperfc <- performance_c[!duplicated(performance_c[,1]),] # take duplicate id off\n",
    "Uabsence  <- absence[!duplicated(absence[,1]),] # take duplicate id off\n",
    "Udepartment <-department[!duplicated(department[,1]),] # take duplicate id off\n",
    "nrow(Uperf)\n",
    "nrow(Uperfc)\n",
    "nrow(Uabsence)\n",
    "nrow(Udepartment)"
   ]
  },
  {
   "cell_type": "markdown",
   "metadata": {},
   "source": [
    "2. Total people (universe)"
   ]
  },
  {
   "cell_type": "code",
   "execution_count": 4,
   "metadata": {},
   "outputs": [
    {
     "data": {
      "text/html": [
       "6729"
      ],
      "text/latex": [
       "6729"
      ],
      "text/markdown": [
       "6729"
      ],
      "text/plain": [
       "[1] 6729"
      ]
     },
     "metadata": {},
     "output_type": "display_data"
    }
   ],
   "source": [
    "# Prepare data\n",
    "M2 <- Mtotal[!duplicated(Mtotal[,1]),]\n",
    "M3 <- as.data.frame(M2$person_id)\n",
    "M3$performance <- M2$performance\n",
    "M3$performance_c <- M2$performance_c\n",
    "M3$absence <- M2$absence\n",
    "M3$department <- M2$department\n",
    "nrow(M3)"
   ]
  },
  {
   "cell_type": "markdown",
   "metadata": {},
   "source": [
    "3. Unique people in each area"
   ]
  },
  {
   "cell_type": "code",
   "execution_count": 5,
   "metadata": {},
   "outputs": [
    {
     "data": {
      "text/html": [
       "1064"
      ],
      "text/latex": [
       "1064"
      ],
      "text/markdown": [
       "1064"
      ],
      "text/plain": [
       "[1] 1064"
      ]
     },
     "metadata": {},
     "output_type": "display_data"
    }
   ],
   "source": [
    "# Find A <- Only appear in performance\n",
    "M3$hcheck <- 0\n",
    "M3$check[M3$performance == 1 & is.na(M3$performance_c) & is.na(M3$absence)  & is.na(M3$department)] <- 1\n",
    "sum(na.omit(M3$check))"
   ]
  },
  {
   "cell_type": "code",
   "execution_count": 6,
   "metadata": {},
   "outputs": [
    {
     "data": {
      "text/html": [
       "58"
      ],
      "text/latex": [
       "58"
      ],
      "text/markdown": [
       "58"
      ],
      "text/plain": [
       "[1] 58"
      ]
     },
     "metadata": {},
     "output_type": "display_data"
    }
   ],
   "source": [
    "# Find B <- Only appear in performance and performance_c\n",
    "M3$check <- 0\n",
    "M3$check[M3$performance == 1 & M3$performance_c == 1 & is.na(M3$absence)  & is.na(M3$department)] <- 1\n",
    "sum(na.omit(M3$check))"
   ]
  },
  {
   "cell_type": "code",
   "execution_count": 7,
   "metadata": {},
   "outputs": [
    {
     "data": {
      "text/html": [
       "0"
      ],
      "text/latex": [
       "0"
      ],
      "text/markdown": [
       "0"
      ],
      "text/plain": [
       "[1] 0"
      ]
     },
     "metadata": {},
     "output_type": "display_data"
    }
   ],
   "source": [
    "# Find C <- Only appear in performance_c\n",
    "M3$check <- 0\n",
    "M3$check[is.na(M3$performance) & M3$performance_c == 1 & is.na(M3$absence)  & is.na(M3$department)] <- 1\n",
    "sum(na.omit(M3$check))"
   ]
  },
  {
   "cell_type": "code",
   "execution_count": 8,
   "metadata": {},
   "outputs": [
    {
     "data": {
      "text/html": [
       "0"
      ],
      "text/latex": [
       "0"
      ],
      "text/markdown": [
       "0"
      ],
      "text/plain": [
       "[1] 0"
      ]
     },
     "metadata": {},
     "output_type": "display_data"
    }
   ],
   "source": [
    "# Find D <- Only appear in performance_c and absence\n",
    "M3$check <- 0\n",
    "M3$check[is.na(M3$performance) & M3$performance_c == 1 & M3$absence == 1  & is.na(M3$department)] <- 1\n",
    "sum(na.omit(M3$check))"
   ]
  },
  {
   "cell_type": "code",
   "execution_count": 9,
   "metadata": {},
   "outputs": [
    {
     "data": {
      "text/html": [
       "0"
      ],
      "text/latex": [
       "0"
      ],
      "text/markdown": [
       "0"
      ],
      "text/plain": [
       "[1] 0"
      ]
     },
     "metadata": {},
     "output_type": "display_data"
    }
   ],
   "source": [
    "# Find E <- Only appear in performance_c and absence and department\n",
    "M3$check <- 0\n",
    "M3$check[is.na(M3$performance) & M3$performance_c == 1 & M3$absence == 1  & M3$department == 1] <- 1\n",
    "sum(na.omit(M3$check))"
   ]
  },
  {
   "cell_type": "code",
   "execution_count": 10,
   "metadata": {},
   "outputs": [
    {
     "data": {
      "text/html": [
       "810"
      ],
      "text/latex": [
       "810"
      ],
      "text/markdown": [
       "810"
      ],
      "text/plain": [
       "[1] 810"
      ]
     },
     "metadata": {},
     "output_type": "display_data"
    }
   ],
   "source": [
    "# Find F <- Only appear in absence and department***** not in the answer\n",
    "M3$check <- 0\n",
    "M3$check[is.na(M3$performance) & is.na(M3$performance_c) & M3$absence == 1  & M3$department == 1] <- 1\n",
    "sum(na.omit(M3$check))"
   ]
  },
  {
   "cell_type": "code",
   "execution_count": 11,
   "metadata": {},
   "outputs": [
    {
     "data": {
      "text/html": [
       "1"
      ],
      "text/latex": [
       "1"
      ],
      "text/markdown": [
       "1"
      ],
      "text/plain": [
       "[1] 1"
      ]
     },
     "metadata": {},
     "output_type": "display_data"
    }
   ],
   "source": [
    "# Find G <- Only appear in performance and performance_c and department\n",
    "M3$check <- 0\n",
    "M3$check[M3$performance == 1 & M3$performance_c == 1 & is.na(M3$absence)  & M3$department == 1] <- 1\n",
    "sum(na.omit(M3$check))"
   ]
  },
  {
   "cell_type": "code",
   "execution_count": 12,
   "metadata": {},
   "outputs": [
    {
     "data": {
      "text/html": [
       "2401"
      ],
      "text/latex": [
       "2401"
      ],
      "text/markdown": [
       "2401"
      ],
      "text/plain": [
       "[1] 2401"
      ]
     },
     "metadata": {},
     "output_type": "display_data"
    }
   ],
   "source": [
    "# Find H <- appear in performance and performance_c and absence and department\n",
    "M3$check <- 0\n",
    "M3$check[M3$performance == 1 & M3$performance_c == 1 & M3$absence == 1 & M3$department == 1] <- 1\n",
    "sum(na.omit(M3$check))"
   ]
  },
  {
   "cell_type": "code",
   "execution_count": 13,
   "metadata": {},
   "outputs": [
    {
     "data": {
      "text/html": [
       "62"
      ],
      "text/latex": [
       "62"
      ],
      "text/markdown": [
       "62"
      ],
      "text/plain": [
       "[1] 62"
      ]
     },
     "metadata": {},
     "output_type": "display_data"
    }
   ],
   "source": [
    "# Find I <- Only appear in performance and performance_c and absence\n",
    "M3$check <- 0\n",
    "M3$check[M3$performance == 1 & M3$performance_c == 1 & M3$absence == 1 & is.na(M3$department)] <- 1\n",
    "sum(na.omit(M3$check))"
   ]
  },
  {
   "cell_type": "code",
   "execution_count": 14,
   "metadata": {},
   "outputs": [
    {
     "data": {
      "text/html": [
       "30"
      ],
      "text/latex": [
       "30"
      ],
      "text/markdown": [
       "30"
      ],
      "text/plain": [
       "[1] 30"
      ]
     },
     "metadata": {},
     "output_type": "display_data"
    }
   ],
   "source": [
    "# Find J <- Only appear in performance and absence\n",
    "M3$check <- 0\n",
    "M3$check[M3$performance == 1 & is.na(M3$performance_c) & M3$absence == 1 & is.na(M3$department)] <- 1\n",
    "sum(na.omit(M3$check))"
   ]
  },
  {
   "cell_type": "code",
   "execution_count": 15,
   "metadata": {},
   "outputs": [
    {
     "data": {
      "text/html": [
       "1736"
      ],
      "text/latex": [
       "1736"
      ],
      "text/markdown": [
       "1736"
      ],
      "text/plain": [
       "[1] 1736"
      ]
     },
     "metadata": {},
     "output_type": "display_data"
    }
   ],
   "source": [
    "# Find K <- Only appear in absence\n",
    "M3$check <- 0\n",
    "M3$check[is.na(M3$performance) & is.na(M3$performance_c) & M3$absence == 1 & is.na(M3$department)] <- 1\n",
    "sum(na.omit(M3$check))"
   ]
  },
  {
   "cell_type": "code",
   "execution_count": 16,
   "metadata": {},
   "outputs": [
    {
     "data": {
      "text/html": [
       "535"
      ],
      "text/latex": [
       "535"
      ],
      "text/markdown": [
       "535"
      ],
      "text/plain": [
       "[1] 535"
      ]
     },
     "metadata": {},
     "output_type": "display_data"
    }
   ],
   "source": [
    "# Find L <- Only appear in performance and absence and department\n",
    "M3$check <- 0\n",
    "M3$check[M3$performance == 1 & is.na(M3$performance_c) & M3$absence == 1 & M3$department== 1] <- 1\n",
    "sum(na.omit(M3$check))"
   ]
  },
  {
   "cell_type": "code",
   "execution_count": 17,
   "metadata": {},
   "outputs": [
    {
     "data": {
      "text/html": [
       "1"
      ],
      "text/latex": [
       "1"
      ],
      "text/markdown": [
       "1"
      ],
      "text/plain": [
       "[1] 1"
      ]
     },
     "metadata": {},
     "output_type": "display_data"
    }
   ],
   "source": [
    "# Find M <- Only appear in performance and department\n",
    "M3$check <- 0\n",
    "M3$check[M3$performance == 1 & is.na(M3$performance_c) & is.na(M3$absence) & M3$department== 1] <- 1\n",
    "sum(na.omit(M3$check))"
   ]
  },
  {
   "cell_type": "code",
   "execution_count": 18,
   "metadata": {},
   "outputs": [
    {
     "data": {
      "text/html": [
       "31"
      ],
      "text/latex": [
       "31"
      ],
      "text/markdown": [
       "31"
      ],
      "text/plain": [
       "[1] 31"
      ]
     },
     "metadata": {},
     "output_type": "display_data"
    }
   ],
   "source": [
    "# Find N <- Only appear in department\n",
    "M3$check <- 0\n",
    "M3$check[is.na(M3$performance) & is.na(M3$performance_c) & is.na(M3$absence) & M3$department== 1] <- 1\n",
    "sum(na.omit(M3$check))"
   ]
  },
  {
   "cell_type": "code",
   "execution_count": 19,
   "metadata": {},
   "outputs": [
    {
     "data": {
      "text/html": [
       "0"
      ],
      "text/latex": [
       "0"
      ],
      "text/markdown": [
       "0"
      ],
      "text/plain": [
       "[1] 0"
      ]
     },
     "metadata": {},
     "output_type": "display_data"
    }
   ],
   "source": [
    "# Find O <- Only appear in performance_c and department\n",
    "M3$check <- 0\n",
    "M3$check[is.na(M3$performance) & M3$performance_c == 1 & is.na(M3$absence) & M3$department== 1] <- 1\n",
    "sum(na.omit(M3$check))"
   ]
  },
  {
   "cell_type": "markdown",
   "metadata": {},
   "source": [
    "## Q2 : Are there any features we should worry about? Check for missingness and other anomalies. Report the top three issues with the data I should worry about.\n",
    "\n",
    "1. perf_a, perf_b,and perF_c : There are a lot of missing data. It may be get a problem with the total score of each person.\n",
    "\n",
    "2. All performance score is both positive and negative. Score probabilities derived from standardized.  \n",
    "\n",
    "3. The data in each row is the data of each person in each period. Be careful when use, must to understand the data."
   ]
  },
  {
   "cell_type": "code",
   "execution_count": 20,
   "metadata": {},
   "outputs": [
    {
     "data": {
      "text/plain": [
       "   person_id           year          perf_a           perf_b      \n",
       " Min.   :     2   Min.   :2012   Min.   :-6.539   Min.   :-3.748  \n",
       " 1st Qu.: 48098   1st Qu.:2013   1st Qu.:-0.563   1st Qu.:-0.624  \n",
       " Median : 79425   Median :2015   Median : 0.046   Median :-0.026  \n",
       " Mean   : 79067   Mean   :2352   Mean   : 0.004   Mean   : 0.000  \n",
       " 3rd Qu.:113976   3rd Qu.:2016   3rd Qu.: 0.612   3rd Qu.: 0.596  \n",
       " Max.   :134862   Max.   :9999   Max.   : 5.724   Max.   : 4.013  \n",
       "                                 NA's   :16517    NA's   :26441   \n",
       "  performance       perf_c       performance_c         status     \n",
       " Min.   :1      Min.   :-4.561   Min.   :1                : 3703  \n",
       " 1st Qu.:1      1st Qu.:-0.520   1st Qu.:1       Active   :17095  \n",
       " Median :1      Median : 0.039   Median :1       Inactive :  419  \n",
       " Mean   :1      Mean   :-0.014   Mean   :1       Withdrawn:    1  \n",
       " 3rd Qu.:1      3rd Qu.: 0.553   3rd Qu.:1       NA's     : 8376  \n",
       " Max.   :1      Max.   : 5.724   Max.   :1                        \n",
       " NA's   :8834   NA's   :16218    NA's   :16218                    \n",
       "  avg_absences       absence        id_s_fr               age       \n",
       " Min.   :-1.200   Min.   :1      Min.   :1.000e+09   Min.   : 0.0   \n",
       " 1st Qu.: 1.455   1st Qu.:1      1st Qu.:3.000e+09   1st Qu.:33.0   \n",
       " Median : 8.160   Median :1      Median :3.000e+09   Median :44.0   \n",
       " Mean   : 5.703   Mean   :1      Mean   :3.039e+09   Mean   :43.6   \n",
       " 3rd Qu.: 8.552   3rd Qu.:1      3rd Qu.:3.000e+09   3rd Qu.:53.0   \n",
       " Max.   : 9.035   Max.   :1      Max.   :6.206e+10   Max.   :86.0   \n",
       " NA's   :9628     NA's   :8376   NA's   :16735       NA's   :15038  \n",
       "     female        department   \n",
       " Min.   :0.000   Min.   :1      \n",
       " 1st Qu.:0.000   1st Qu.:1      \n",
       " Median :1.000   Median :1      \n",
       " Mean   :0.748   Mean   :1      \n",
       " 3rd Qu.:1.000   3rd Qu.:1      \n",
       " Max.   :1.000   Max.   :1      \n",
       " NA's   :15038   NA's   :15015  "
      ]
     },
     "metadata": {},
     "output_type": "display_data"
    }
   ],
   "source": [
    "summary(Mtotal)"
   ]
  },
  {
   "cell_type": "markdown",
   "metadata": {},
   "source": [
    "## Q3: Create a new variable for a person’s average lifetime performance score (pick any of the three scores we have). Call this new variable, lperf. What is the average of lperf among female employees? \n",
    "\n",
    "1. Select female = 1 from merged file \n",
    "\n",
    "2. Select perf_c to create mew variable <- lperf\n",
    "\n",
    "3. Find person’s average lifetime performance score = lperf of each people\n",
    "\n",
    "4. Find mean of lperf = the average of lperf among female employees = 0.009869174"
   ]
  },
  {
   "cell_type": "code",
   "execution_count": 21,
   "metadata": {},
   "outputs": [
    {
     "data": {
      "text/html": [
       "0.00986917376418517"
      ],
      "text/latex": [
       "0.00986917376418517"
      ],
      "text/markdown": [
       "0.00986917376418517"
      ],
      "text/plain": [
       "[1] 0.009869174"
      ]
     },
     "metadata": {},
     "output_type": "display_data"
    }
   ],
   "source": [
    "# Find person_id that female == 1 from Mtotal\n",
    "M1 <- Mtotal\n",
    "M1 <- M1[!(M1$female == 0 | is.na(M1$female)),]   # select only female\n",
    "# Find lifetime performance score for each person (use perf_c)\n",
    "M2 <- aggregate(perf_c ~ person_id, M1, mean)\n",
    "# Find the average of lperf among female employees \n",
    "mean(M2$perf_c)"
   ]
  },
  {
   "cell_type": "markdown",
   "metadata": {},
   "source": [
    "## Q4: Transform the data from the current long format (each row is for each person-year record so there’ll be many rows per one person) into the wide format (each row is for each person). Save this as wide.csv.\n",
    "\n",
    "1. Split data file by year : 2012-2017 and 9999***(keep to check with previous file)\n",
    "\n",
    "2. Merge year file by column use person_id as key index\n",
    "\n",
    "3. Save to wide.csv  \n"
   ]
  },
  {
   "cell_type": "code",
   "execution_count": 22,
   "metadata": {},
   "outputs": [
    {
     "data": {
      "text/plain": [
       "\n",
       "2012 2013 2014 2015 2016 2017 9999 \n",
       "4056 5200 5256 4850 4828 4152 1252 "
      ]
     },
     "metadata": {},
     "output_type": "display_data"
    },
    {
     "name": "stdout",
     "output_type": "stream",
     "text": [
      "'data.frame':\t6729 obs. of  64 variables:\n",
      " $ person_id         : int  2 30 416 1938 1966 2712 2951 3834 4257 4352 ...\n",
      " $ year.x            : int  2012 2012 2012 NA 2012 2012 2012 2012 2012 NA ...\n",
      " $ perf_a.x          : num  NA NA NA NA NA NA NA NA NA NA ...\n",
      " $ perf_b.x          : num  NA NA NA NA NA NA NA NA NA NA ...\n",
      " $ perf_c.x          : num  NA NA NA NA NA NA NA NA NA NA ...\n",
      " $ status.x          : Factor w/ 4 levels \"\",\"Active\",\"Inactive\",..: 2 1 2 NA 2 2 2 2 2 NA ...\n",
      " $ avg_absences.x    : num  7.95 8.06 8.65 NA 7.96 ...\n",
      " $ id_s_fr.x         : num  3e+09 NA 3e+09 NA 3e+09 ...\n",
      " $ age.x             : num  48 NA 73 NA 52 69 68 47 69 NA ...\n",
      " $ female.x          : num  1 NA 1 NA 0 1 0 0 1 NA ...\n",
      " $ year.y            : int  2013 2013 2013 2013 2013 2013 2013 2013 2013 2013 ...\n",
      " $ perf_a.y          : num  -0.291 -0.154 -0.04 NA NA ...\n",
      " $ perf_b.y          : num  -0.114 NA 0.206 -0.463 NA ...\n",
      " $ perf_c.y          : num  -0.1933 -0.15396 0.00636 -0.28645 NA ...\n",
      " $ status.y          : Factor w/ 4 levels \"\",\"Active\",\"Inactive\",..: 3 1 2 NA 2 NA 2 2 1 NA ...\n",
      " $ avg_absences.y    : num  8.65 8.66 8.36 NA 8.76 ...\n",
      " $ id_s_fr.y         : num  NA NA 3e+09 NA 3e+09 ...\n",
      " $ age.y             : num  49 NA 74 NA 53 NA 69 48 70 NA ...\n",
      " $ female.y          : num  1 NA 1 NA 0 NA 0 0 1 NA ...\n",
      " $ year.x.x          : int  2014 2014 2014 2014 2014 2014 2014 2014 2014 2014 ...\n",
      " $ perf_a.x.x        : num  NA NA -1.68 NA 0.59 ...\n",
      " $ perf_b.x.x        : num  NA NA NA NA NA NA NA NA NA NA ...\n",
      " $ perf_c.x.x        : num  NA NA -1.825 NA 0.202 ...\n",
      " $ status.x.x        : Factor w/ 4 levels \"\",\"Active\",\"Inactive\",..: 3 1 1 NA 2 NA 1 2 1 NA ...\n",
      " $ avg_absences.x.x  : num  8.86 8.21 8.26 NA 8.09 ...\n",
      " $ id_s_fr.x.x       : num  NA NA 3e+09 NA 3e+09 ...\n",
      " $ age.x.x           : num  50 NA 75 NA 54 NA 70 49 71 NA ...\n",
      " $ female.x.x        : num  1 NA 1 NA 0 NA 0 0 1 NA ...\n",
      " $ year.y.y          : int  2015 2015 2015 2015 2015 2015 2015 2015 2015 2015 ...\n",
      " $ perf_a.y.y        : num  NA NA NA NA 0.104 ...\n",
      " $ perf_b.y.y        : num  NA NA NA NA NA NA NA NA NA NA ...\n",
      " $ perf_c.y.y        : num  NA NA NA NA 0.373 ...\n",
      " $ status.y.y        : Factor w/ 4 levels \"\",\"Active\",\"Inactive\",..: NA NA NA NA 2 NA NA NA NA NA ...\n",
      " $ avg_absences.y.y  : num  NA NA NA NA 1.6 ...\n",
      " $ id_s_fr.y.y       : num  NA NA NA NA 3e+09 ...\n",
      " $ age.y.y           : num  NA NA NA NA 55 NA NA NA NA NA ...\n",
      " $ female.y.y        : num  NA NA NA NA 0 NA NA NA NA NA ...\n",
      " $ year.x.x.x        : int  2016 2016 2016 2016 2016 2016 2016 2016 2016 2016 ...\n",
      " $ perf_a.x.x.x      : num  NA NA NA NA 0.0122 ...\n",
      " $ perf_b.x.x.x      : num  NA NA NA NA NA NA NA NA NA NA ...\n",
      " $ perf_c.x.x.x      : num  NA NA NA NA 0.961 ...\n",
      " $ status.x.x.x      : Factor w/ 4 levels \"\",\"Active\",\"Inactive\",..: NA NA NA NA 2 NA NA 2 NA NA ...\n",
      " $ avg_absences.x.x.x: num  NA NA NA NA 0.309 ...\n",
      " $ id_s_fr.x.x.x     : num  NA NA NA NA NA NA NA NA NA NA ...\n",
      " $ age.x.x.x         : num  NA NA NA NA NA NA NA NA NA NA ...\n",
      " $ female.x.x.x      : num  NA NA NA NA NA NA NA NA NA NA ...\n",
      " $ year.y.y.y        : int  2017 2017 2017 2017 2017 2017 2017 2017 2017 2017 ...\n",
      " $ perf_a.y.y.y      : num  NA NA NA NA NA NA NA NA NA NA ...\n",
      " $ perf_b.y.y.y      : num  NA NA NA NA NA NA NA NA NA NA ...\n",
      " $ perf_c.y.y.y      : num  NA NA NA NA 0.219 ...\n",
      " $ status.y.y.y      : Factor w/ 4 levels \"\",\"Active\",\"Inactive\",..: NA NA NA NA NA NA NA NA NA NA ...\n",
      " $ avg_absences.y.y.y: num  NA NA NA NA NA NA NA NA NA NA ...\n",
      " $ id_s_fr.y.y.y     : num  NA NA NA NA NA NA NA NA NA NA ...\n",
      " $ age.y.y.y         : num  NA NA NA NA NA NA NA NA NA NA ...\n",
      " $ female.y.y.y      : num  NA NA NA NA NA NA NA NA NA NA ...\n",
      " $ year              : int  NA NA NA 9999 NA NA NA NA NA NA ...\n",
      " $ perf_a            : num  NA NA NA NA NA NA NA NA NA NA ...\n",
      " $ perf_b            : num  NA NA NA NA NA NA NA NA NA NA ...\n",
      " $ perf_c            : num  NA NA NA NA NA NA NA NA NA NA ...\n",
      " $ status            : Factor w/ 4 levels \"\",\"Active\",\"Inactive\",..: NA NA NA 1 NA NA NA NA NA NA ...\n",
      " $ avg_absences      : num  NA NA NA NA NA NA NA NA NA NA ...\n",
      " $ id_s_fr           : num  NA NA NA NA NA NA NA NA NA NA ...\n",
      " $ age               : num  NA NA NA NA NA NA NA NA NA NA ...\n",
      " $ female            : num  NA NA NA NA NA NA NA NA NA NA ...\n"
     ]
    }
   ],
   "source": [
    "# Check year\n",
    "table(Mtotal$year)\n",
    "# Cut performance, performan_c, absence, department\n",
    "Stotal <- Mtotal\n",
    "Stotal$performance <- NULL\n",
    "Stotal$performance_c <- NULL\n",
    "Stotal$absence <- NULL\n",
    "Stotal$department <- NULL\n",
    "Stotal$lperf <- NULL\n",
    "# Create sub file for each year\n",
    "y2012 <- Stotal[0,]\n",
    "y2013 <- Stotal[0,]\n",
    "y2014 <- Stotal[0,]\n",
    "y2015 <- Stotal[0,]\n",
    "y2016 <- Stotal[0,]\n",
    "y2017 <- Stotal[0,]\n",
    "y9999 <- Stotal[0,]\n",
    "# Start to split file\n",
    "i  <- 1\n",
    "for (i in 1:nrow(Stotal)) {\n",
    "  if(Stotal$year[i] == 2012){\n",
    "    y2012 <- rbind(y2012,Stotal[i,])\n",
    "  }\n",
    "}\n",
    "i  <- 1\n",
    "for (i in 1:nrow(Stotal)) {\n",
    "  if(Stotal$year[i] == 2013){\n",
    "    y2013 <- rbind(y2013,Stotal[i,])\n",
    "  }\n",
    "}\n",
    "i  <- 1\n",
    "for (i in 1:nrow(Stotal)) {\n",
    "  if(Stotal$year[i] == 2014){\n",
    "    y2014 <- rbind(y2014,Stotal[i,])\n",
    "  }\n",
    "}\n",
    "i  <- 1\n",
    "for (i in 1:nrow(Stotal)) {\n",
    "  if(Stotal$year[i] == 2015){\n",
    "    y2015 <- rbind(y2015,Stotal[i,])\n",
    "  }\n",
    "}\n",
    "i  <- 1\n",
    "for (i in 1:nrow(Stotal)) {\n",
    "  if(Stotal$year[i] == 2016){\n",
    "    y2016 <- rbind(y2016,Stotal[i,])\n",
    "  }\n",
    "}\n",
    "i  <- 1\n",
    "for (i in 1:nrow(Stotal)) {\n",
    "  if(Stotal$year[i] == 2017){\n",
    "    y2017 <- rbind(y2017,Stotal[i,])\n",
    "  }\n",
    "}\n",
    "i  <- 1\n",
    "for (i in 1:nrow(Stotal)) {\n",
    "  if(Stotal$year[i] == 9999){\n",
    "    y9999 <- rbind(y9999,Stotal[i,])\n",
    "  }\n",
    "}\n",
    "# Maker person_id as key index\n",
    "Wtotal <- as.data.frame(M3[,1])\n",
    "colnames(Wtotal)[1] <- \"person_id\"\n",
    "# Merge\n",
    "Wtotal  <- Wtotal %>%\n",
    "  left_join(y2012, by = \"person_id\") %>%  \n",
    "  left_join(y2013, by = \"person_id\") %>%  \n",
    "  left_join(y2014, by = \"person_id\") %>%  \n",
    "  left_join(y2015, by = \"person_id\") %>%  \n",
    "  left_join(y2016, by = \"person_id\") %>%  \n",
    "  left_join(y2017, by = \"person_id\") %>%  \n",
    "  left_join(y9999, by = \"person_id\")  \n",
    "str(Wtotal)\n",
    "# write file\n",
    "write.csv(Wtotal, file=\"wide.csv\", row.names = T)"
   ]
  },
  {
   "cell_type": "markdown",
   "metadata": {},
   "source": [
    "## Q5 (BONUS): Go back to the long format file, panel.csv. Calculate the rolling average performance score (pick any of the three) for all previous years up until the year for that record. For example, if that row is year =2014, calculate this average using performance score from all years <=2014. If there are missing scores in some year(s) in between, use the latest available rolling average. Call this variable, rperf. What’s the average rperf among male employees in year 2015?\n",
    "Rolling score year X is average performance score from started year to year X. For this data set, Rolling score year 2015 is average performance score from 2012 to 2015.\n",
    "1. Use perf_c to calculate rperf \n",
    "2. Use wide.csv\n",
    "3. Select people who is male\n",
    "4. Find rolling score 2015 (anerage perf_c from 2012-2015)\n",
    "5. Average of rolling score is the average rperf among male employees in year 2015 = -0.2539987"
   ]
  },
  {
   "cell_type": "code",
   "execution_count": 23,
   "metadata": {},
   "outputs": [
    {
     "data": {
      "text/html": [
       "-0.253998726003218"
      ],
      "text/latex": [
       "-0.253998726003218"
      ],
      "text/markdown": [
       "-0.253998726003218"
      ],
      "text/plain": [
       "[1] -0.2539987"
      ]
     },
     "metadata": {},
     "output_type": "display_data"
    }
   ],
   "source": [
    "# Select male from Wtota,(wide.csv) (1 = female, 0 = male)\n",
    "M4 <- Wtotal[!(Wtotal$female.x == 1 | is.na(Wtotal$female.x)),]   # select only male\n",
    "M5 <- as.data.frame(M4[,1])\n",
    "M5$perf_c_2012 <- M4$perf_c.x\n",
    "M5$perf_c_2013 <- M4$perf_c.y\n",
    "M5$perf_c_2014 <- M4$perf_c.x.x\n",
    "M5$perf_c_2015 <- M4$perf_c.y.y\n",
    "# Calculate rperf for 2015\n",
    "M5$rperf <- rowMeans(M5[-1], na.rm = TRUE)\n",
    "M5$rperf[is.nan(M5$rperf)] <- NA\n",
    "mean(M5$rperf, na.rm = TRUE)"
   ]
  }
 ],
 "metadata": {
  "kernelspec": {
   "display_name": "R",
   "language": "R",
   "name": "ir"
  },
  "language_info": {
   "codemirror_mode": "r",
   "file_extension": ".r",
   "mimetype": "text/x-r-source",
   "name": "R",
   "pygments_lexer": "r",
   "version": "3.5.0"
  }
 },
 "nbformat": 4,
 "nbformat_minor": 2
}
